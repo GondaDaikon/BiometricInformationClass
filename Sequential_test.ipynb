{
 "metadata": {
  "language_info": {
   "codemirror_mode": {
    "name": "ipython",
    "version": 3
   },
   "file_extension": ".py",
   "mimetype": "text/x-python",
   "name": "python",
   "nbconvert_exporter": "python",
   "pygments_lexer": "ipython3",
   "version": "3.7.4-final"
  },
  "orig_nbformat": 2,
  "kernelspec": {
   "name": "python3",
   "display_name": "Python 3",
   "language": "python"
  }
 },
 "nbformat": 4,
 "nbformat_minor": 2,
 "cells": [
  {
   "cell_type": "code",
   "execution_count": 57,
   "metadata": {},
   "outputs": [],
   "source": [
    "import numpy\n",
    "import keras\n",
    "from keras.models import Sequential\n",
    "from keras.layers import Dense, Dropout, Activation\n",
    "from keras.optimizers import SGD\n"
   ]
  },
  {
   "cell_type": "code",
   "execution_count": 58,
   "metadata": {},
   "outputs": [],
   "source": [
    "# MNIST 訓練データのCSV ファイルを読み込んでリストにする\n",
    "train_data_file = open(\"dataSet/mnist_train.csv\", 'r')\n",
    "train_data_list = train_data_file.readlines()\n",
    "train_data_file.close()\n",
    "\n",
    "x_train = numpy.empty((len(train_data_list), 784))\n",
    "y_train = numpy.empty((len(train_data_list), 10))\n",
    "for i, data in enumerate(train_data_list):\n",
    "        # データを','でsplit\n",
    "        all_values = data.split(',')        \n",
    "        # 入力値のスケーリングとシフト\n",
    "        inputs = (numpy.asfarray(all_values[1:]) / 255.0 * 0.99) + 0.01\n",
    "        # 目標配列の生成（ラベル位置が0.99　残りは0.01）\n",
    "        targets = numpy.zeros(10) + 0.01\n",
    "        # all_values[0]はこのデータのラベル\n",
    "        targets[int(all_values[0])] = 0.99\n",
    "\n",
    "        x_train[i] = inputs\n",
    "        y_train[i] = targets"
   ]
  },
  {
   "cell_type": "code",
   "execution_count": 59,
   "metadata": {},
   "outputs": [],
   "source": [
    "# MNIST テストデータのCSV ファイルを読み込んでリストにする\n",
    "test_data_file = open(\"my_own_images/my_own_dataset.csv\", 'r')\n",
    "test_data_list = test_data_file.readlines()\n",
    "test_data_file.close()\n",
    "\n",
    "x_test = numpy.empty((len(test_data_list), 784))\n",
    "y_test = numpy.empty((len(test_data_list), 10))\n",
    "for i, data in enumerate(test_data_list):\n",
    "        # データを','でsplit\n",
    "        all_values = data.split(',')        \n",
    "        # 入力値のスケーリングとシフト\n",
    "        inputs = (numpy.asfarray(all_values[1:]) / 255.0 * 0.99) + 0.01\n",
    "        # 目標配列の生成（ラベル位置が0.99　残りは0.01）\n",
    "        targets = numpy.zeros(10) + 0.01\n",
    "        # all_values[0]はこのデータのラベル\n",
    "        targets[int(float(all_values[0]))] = 0.99\n",
    "\n",
    "        x_test[i] = inputs\n",
    "        y_test[i] = targets"
   ]
  },
  {
   "cell_type": "code",
   "execution_count": 60,
   "metadata": {},
   "outputs": [],
   "source": [
    "model = Sequential()\n",
    "# Dense(64) は，100個のhidden unitを持つ全結合層です．\n",
    "# 最初のlayerでは，想定する入力データshapeを指定する必要があり，ここでは20次元としてます．\n",
    "model.add(Dense(100, activation='relu', input_dim=784))\n",
    "model.add(Dropout(0.1))\n",
    "model.add(Dense(100, activation='relu'))\n",
    "model.add(Dropout(0.1))\n",
    "model.add(Dense(10, activation='softmax'))\n",
    "\n",
    "sgd = SGD(lr=0.01, decay=1e-6, momentum=0.9, nesterov=True)\n",
    "model.compile(loss='categorical_crossentropy',\n",
    "              optimizer=sgd,\n",
    "              metrics=['accuracy'])"
   ]
  },
  {
   "cell_type": "code",
   "execution_count": 61,
   "metadata": {},
   "outputs": [
    {
     "output_type": "stream",
     "name": "stdout",
     "text": [
      "Epoch 1/10\n",
      "469/469 [==============================] - 1s 3ms/step - loss: 24.2019 - accuracy: 0.5929\n",
      "Epoch 2/10\n",
      "469/469 [==============================] - 1s 2ms/step - loss: 1149.6794 - accuracy: 0.3103\n",
      "Epoch 3/10\n",
      "469/469 [==============================] - 1s 3ms/step - loss: 1190.6671 - accuracy: 0.1990\n",
      "Epoch 4/10\n",
      "469/469 [==============================] - 1s 3ms/step - loss: 6.1209 - accuracy: 0.1415\n",
      "Epoch 5/10\n",
      "469/469 [==============================] - 1s 3ms/step - loss: 2.4858 - accuracy: 0.1124\n",
      "Epoch 6/10\n",
      "469/469 [==============================] - 1s 3ms/step - loss: 2.4858 - accuracy: 0.1124\n",
      "Epoch 7/10\n",
      "469/469 [==============================] - 1s 3ms/step - loss: 2.4858 - accuracy: 0.1124\n",
      "Epoch 8/10\n",
      "469/469 [==============================] - 1s 3ms/step - loss: 2.4858 - accuracy: 0.1124\n",
      "Epoch 9/10\n",
      "469/469 [==============================] - 1s 3ms/step - loss: 2.4857 - accuracy: 0.1124\n",
      "Epoch 10/10\n",
      "469/469 [==============================] - 1s 2ms/step - loss: 2.4858 - accuracy: 0.1124\n"
     ]
    },
    {
     "output_type": "execute_result",
     "data": {
      "text/plain": [
       "<tensorflow.python.keras.callbacks.History at 0x7f3856b6b710>"
      ]
     },
     "metadata": {},
     "execution_count": 61
    }
   ],
   "source": [
    "model.fit(x_train, y_train,\n",
    "          epochs=10,\n",
    "          batch_size=128)"
   ]
  },
  {
   "cell_type": "code",
   "execution_count": 62,
   "metadata": {},
   "outputs": [
    {
     "output_type": "stream",
     "name": "stdout",
     "text": [
      "1/1 [==============================] - 0s 2ms/step - loss: 2.4884 - accuracy: 0.1000\n"
     ]
    }
   ],
   "source": [
    "score = model.evaluate(x_test, y_test, batch_size=128)"
   ]
  }
 ]
}